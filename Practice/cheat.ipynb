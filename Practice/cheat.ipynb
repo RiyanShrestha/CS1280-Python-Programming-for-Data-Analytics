{
 "cells": [
  {
   "cell_type": "code",
   "execution_count": 22,
   "id": "97b11d2c",
   "metadata": {},
   "outputs": [],
   "source": [
    "#1. Import all the libraries\n",
    "import pandas as pd\n",
    "import numpy as np\n",
    "import matplotlib.pyplot as plt \n",
    "import seaborn as sns"
   ]
  },
  {
   "cell_type": "code",
   "execution_count": null,
   "id": "80ae2121",
   "metadata": {},
   "outputs": [],
   "source": [
    "#2. load the dataset\n",
    "df= pd.read_csv(r'data.csv)"
   ]
  },
  {
   "cell_type": "code",
   "execution_count": null,
   "id": "358e8dd9",
   "metadata": {},
   "outputs": [],
   "source": [
    "# Check data types\n",
    "print(df.dtypes)\n",
    "\n",
    "# Example: Convert a column to integer\n",
    "# df['column_name'] = df['column_name'].astype(int)"
   ]
  },
  {
   "cell_type": "code",
   "execution_count": null,
   "id": "f858e66d",
   "metadata": {},
   "outputs": [],
   "source": [
    "#3. at first check the data \n",
    "df.info()\n",
    "df.head()\n",
    "df.describe().T"
   ]
  },
  {
   "cell_type": "code",
   "execution_count": null,
   "id": "6c65c7fb",
   "metadata": {},
   "outputs": [
    {
     "data": {
      "text/plain": [
       "\"df.columns = df.columns.str.lower().str.replace(' ', '_')\\n\""
      ]
     },
     "execution_count": 27,
     "metadata": {},
     "output_type": "execute_result"
    }
   ],
   "source": [
    "#6. # Standardize column names\n",
    "df.columns = df.columns.str.lower().str.replace(' ', '_')\n"
   ]
  },
  {
   "cell_type": "code",
   "execution_count": null,
   "id": "c5722ecb",
   "metadata": {},
   "outputs": [],
   "source": [
    "# Check unique values in categorical columns\n",
    "for col in df.select_dtypes(include='object').columns:\n",
    "    print(f\"Unique values in {col}:\\n\", df[col].unique())"
   ]
  },
  {
   "cell_type": "code",
   "execution_count": null,
   "id": "e9087e7e",
   "metadata": {},
   "outputs": [],
   "source": [
    "#4. checking for null values\n",
    "df.isnull().sum()"
   ]
  },
  {
   "cell_type": "code",
   "execution_count": null,
   "id": "22d96c58",
   "metadata": {},
   "outputs": [
    {
     "data": {
      "text/plain": [
       "\"\\nfor col in df.select_dtypes(include='object').columns:\\n    df[col].fillna(df[col].mode()[0], inplace=True)\\n\\n# Example: Fill missing values with median for numerical columns\\nfor col in df.select_dtypes(include='number').columns:\\n    df[col].fillna(df[col].median(), inplace=True)\\n\""
      ]
     },
     "execution_count": 26,
     "metadata": {},
     "output_type": "execute_result"
    }
   ],
   "source": [
    "#5. handle the null values\n",
    "# Example: Fill missing values with mode for categorical columns\n",
    "\n",
    "for col in df.select_dtypes(include='object').columns:\n",
    "    df[col].fillna(df[col].mode()[0], inplace=True)\n",
    "\n",
    "# Example: Fill missing values with median for numerical columns\n",
    "for col in df.select_dtypes(include='number').columns:\n",
    "    df[col].fillna(df[col].median(), inplace=True)\n"
   ]
  },
  {
   "cell_type": "code",
   "execution_count": null,
   "id": "d8e584c8",
   "metadata": {},
   "outputs": [
    {
     "data": {
      "text/plain": [
       "'\\nprint(f\"Number of duplicate rows: {df.duplicated().sum()}\")\\n\\n# Remove duplicates\\ndf.drop_duplicates(inplace=True)\\n'"
      ]
     },
     "execution_count": 20,
     "metadata": {},
     "output_type": "execute_result"
    }
   ],
   "source": [
    "#7. # Check for duplicates\n",
    "\n",
    "print(f\"Number of duplicate rows: {df.duplicated().sum()}\")\n",
    "\n",
    "# Remove duplicates\n",
    "df.drop_duplicates(inplace=True)\n"
   ]
  },
  {
   "cell_type": "code",
   "execution_count": null,
   "id": "602b48d7",
   "metadata": {},
   "outputs": [
    {
     "ename": "SyntaxError",
     "evalue": "incomplete input (2332613448.py, line 2)",
     "output_type": "error",
     "traceback": [
      "\u001b[1;36m  Cell \u001b[1;32mIn[21], line 2\u001b[1;36m\u001b[0m\n\u001b[1;33m    '''\u001b[0m\n\u001b[1;37m    ^\u001b[0m\n\u001b[1;31mSyntaxError\u001b[0m\u001b[1;31m:\u001b[0m incomplete input\n"
     ]
    }
   ],
   "source": [
    "#8. # Check for outliers using boxplot\n",
    "\n",
    "# Example: Boxplot to visualize outliers\n",
    "for col in ['math_score', 'reading_score', 'writing_score']:\n",
    "    sns.boxplot(data=df, x=col)\n",
    "    plt.title(f'Boxplot of {col}')\n",
    "    plt.show()\n",
    "\n",
    "# Example: Remove outliers using the IQR method\n",
    "for col in ['math_score', 'reading_score', 'writing_score']:\n",
    "    Q1 = df[col].quantile(0.25)\n",
    "    Q3 = df[col].quantile(0.75)\n",
    "    IQR = Q3 - Q1\n",
    "    df = df[~((df[col] < (Q1 - 1.5 * IQR)) | (df[col] > (Q3 + 1.5 * IQR)))]"
   ]
  },
  {
   "cell_type": "code",
   "execution_count": null,
   "id": "89a403a0",
   "metadata": {},
   "outputs": [],
   "source": [
    "#9. Check for multicollinearity\n",
    "# Exclude non-numeric columns\n",
    "\n",
    "numeric_df = df.select_dtypes(include=['number'])\n",
    "correlation_matrix = numeric_df.corr()\n",
    "sns.heatmap(correlation_matrix, annot=True, cmap='coolwarm')\n",
    "plt.title('Correlation Matrix')\n",
    "plt.show()\n",
    "\n",
    "# Correlation heatmap\n",
    "sns.heatmap(df.corr(), annot=True, cmap='coolwarm')\n",
    "plt.title('Correlation Matrix')\n",
    "plt.show()\n",
    "\n",
    "sns.heatmap(numeric_df.corr(), annot=True, cmap='coolwarm')\n",
    "plt.title('Correlation Matrix')\n",
    "plt.show()\n"
   ]
  },
  {
   "cell_type": "code",
   "execution_count": null,
   "id": "27a5b881",
   "metadata": {},
   "outputs": [],
   "source": [
    "#10. VALIDATION AND ASSERTIONS\n",
    "# -----------------------------------------------\n",
    "# Replace inf values and drop NaNs\n",
    "\n",
    "df.replace([np.inf, -np.inf], np.nan, inplace=True)\n",
    "df.dropna(inplace=True)"
   ]
  },
  {
   "cell_type": "code",
   "execution_count": null,
   "id": "d924fc32",
   "metadata": {},
   "outputs": [],
   "source": [
    "#11. Histogram\n",
    "# Histograms for numerical columns\n",
    "df.hist(bins=20, figsize=(10, 8))\n",
    "plt.tight_layout()\n",
    "plt.show()"
   ]
  },
  {
   "cell_type": "code",
   "execution_count": null,
   "id": "112410c3",
   "metadata": {},
   "outputs": [],
   "source": [
    "# Final validation\n",
    "print(\"Final dataset shape:\", df.shape)\n",
    "print(\"Missing values:\\n\", df.isnull().sum())\n",
    "print(\"Duplicate rows:\", df.duplicated().sum())"
   ]
  }
 ],
 "metadata": {
  "kernelspec": {
   "display_name": "base",
   "language": "python",
   "name": "python3"
  },
  "language_info": {
   "codemirror_mode": {
    "name": "ipython",
    "version": 3
   },
   "file_extension": ".py",
   "mimetype": "text/x-python",
   "name": "python",
   "nbconvert_exporter": "python",
   "pygments_lexer": "ipython3",
   "version": "3.12.7"
  }
 },
 "nbformat": 4,
 "nbformat_minor": 5
}
