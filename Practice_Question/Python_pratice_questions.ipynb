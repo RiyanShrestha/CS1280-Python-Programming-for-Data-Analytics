{
  "nbformat": 4,
  "nbformat_minor": 0,
  "metadata": {
    "colab": {
      "provenance": []
    },
    "kernelspec": {
      "name": "python3",
      "display_name": "Python 3"
    },
    "language_info": {
      "name": "python"
    }
  },
  "cells": [
    {
      "cell_type": "code",
      "execution_count": null,
      "metadata": {
        "colab": {
          "base_uri": "https://localhost:8080/"
        },
        "id": "WghdHeExqIrJ",
        "outputId": "849feb99-deb4-43fd-8571-a9e1cd98e03b"
      },
      "outputs": [
        {
          "output_type": "stream",
          "name": "stdout",
          "text": [
            "[0 1 2 3 4 5 6 7 8 9]\n"
          ]
        }
      ],
      "source": [
        "#Create a 1D NumPy array from a list of numbers from 1 to 10.\n",
        "import numpy as np\n",
        "arr = np.arange(10)\n",
        "print(arr)"
      ]
    },
    {
      "cell_type": "code",
      "source": [
        "#Create a 1D array of 20 equally spaced numbers between 0 and 1.\n",
        "arr = np.linspace(0, 1, 20)\n",
        "print(arr)"
      ],
      "metadata": {
        "colab": {
          "base_uri": "https://localhost:8080/"
        },
        "id": "7D7hbJm5qMXR",
        "outputId": "d66d0471-2df5-4d10-e104-e776b7908a7c"
      },
      "execution_count": null,
      "outputs": [
        {
          "output_type": "stream",
          "name": "stdout",
          "text": [
            "[0.         0.05263158 0.10526316 0.15789474 0.21052632 0.26315789\n",
            " 0.31578947 0.36842105 0.42105263 0.47368421 0.52631579 0.57894737\n",
            " 0.63157895 0.68421053 0.73684211 0.78947368 0.84210526 0.89473684\n",
            " 0.94736842 1.        ]\n"
          ]
        }
      ]
    },
    {
      "cell_type": "code",
      "source": [
        "#Generate a 1D array of 10 random integers between 1 and 100.\n",
        "arr = np.random.randint(1,100,10)\n",
        "print(arr)"
      ],
      "metadata": {
        "colab": {
          "base_uri": "https://localhost:8080/"
        },
        "id": "bHkZ773HqRwl",
        "outputId": "0d2ca570-2c1b-46f8-9699-013a774bb303"
      },
      "execution_count": null,
      "outputs": [
        {
          "output_type": "stream",
          "name": "stdout",
          "text": [
            "[34 49 20 59  6 27 80 84 94 85]\n"
          ]
        }
      ]
    },
    {
      "cell_type": "code",
      "source": [
        "#Create a 2D array with 3 rows and 4 columns filled with zeros.\n",
        "arr = np.zeros((3,4))\n",
        "print(arr)"
      ],
      "metadata": {
        "colab": {
          "base_uri": "https://localhost:8080/"
        },
        "id": "ZDD-3FWYqSTW",
        "outputId": "c34a594a-755c-4c63-8a62-fb2a53e003da"
      },
      "execution_count": null,
      "outputs": [
        {
          "output_type": "stream",
          "name": "stdout",
          "text": [
            "[[0. 0. 0. 0.]\n",
            " [0. 0. 0. 0.]\n",
            " [0. 0. 0. 0.]]\n"
          ]
        }
      ]
    },
    {
      "cell_type": "code",
      "source": [
        "#Generate a 2D array with the shape (5,5) containing random floating-point numbers.\n",
        "arr = np.random.rand(5,5)\n",
        "print(arr)"
      ],
      "metadata": {
        "colab": {
          "base_uri": "https://localhost:8080/"
        },
        "id": "_BFR-19PqU8c",
        "outputId": "83e1beb8-398a-4b0d-cbc2-8c3c45bcbb1b"
      },
      "execution_count": null,
      "outputs": [
        {
          "output_type": "stream",
          "name": "stdout",
          "text": [
            "[[0.95338821 0.67988927 0.45599129 0.17312146 0.94581929]\n",
            " [0.65754401 0.59966052 0.06075047 0.02697991 0.55803671]\n",
            " [0.4334518  0.17873621 0.17092773 0.92990578 0.32174865]\n",
            " [0.23630311 0.72414679 0.40480335 0.19482651 0.77328712]\n",
            " [0.43191963 0.87073833 0.89151058 0.74123842 0.19498813]]\n"
          ]
        }
      ]
    },
    {
      "cell_type": "code",
      "source": [
        "#Create a 2x2 identity matrix.\n",
        "arr = np.eye(2)\n",
        "print(arr)"
      ],
      "metadata": {
        "colab": {
          "base_uri": "https://localhost:8080/"
        },
        "id": "njG9NYSQqloU",
        "outputId": "fa5be361-b730-4e94-9339-94ff3d59543f"
      },
      "execution_count": null,
      "outputs": [
        {
          "output_type": "stream",
          "name": "stdout",
          "text": [
            "[[1. 0.]\n",
            " [0. 1.]]\n"
          ]
        }
      ]
    },
    {
      "cell_type": "code",
      "source": [
        "#Create a 3D array with the shape (3,4,2) filled with zeros.\n",
        "arr = np.zeros((3,4,2))Untitled0\n",
        "print(arr)"
      ],
      "metadata": {
        "colab": {
          "base_uri": "https://localhost:8080/"
        },
        "id": "z0hQrVsAqvlP",
        "outputId": "922c04b1-d129-43c9-eefe-4e7ecf29ff63"
      },
      "execution_count": null,
      "outputs": [
        {
          "output_type": "stream",
          "name": "stdout",
          "text": [
            "[[[0. 0.]\n",
            "  [0. 0.]\n",
            "  [0. 0.]\n",
            "  [0. 0.]]\n",
            "\n",
            " [[0. 0.]\n",
            "  [0. 0.]\n",
            "  [0. 0.]\n",
            "  [0. 0.]]\n",
            "\n",
            " [[0. 0.]\n",
            "  [0. 0.]\n",
            "  [0. 0.]\n",
            "  [0. 0.]]]\n"
          ]
        }
      ]
    },
    {
      "cell_type": "code",
      "source": [
        "#Generate a 3D array with the shape (2,3,3) containing random integers between 1 and 10.\n",
        "arr = np.random.randint(1, 10, (2, 3, 3))\n",
        "print(arr)"
      ],
      "metadata": {
        "colab": {
          "base_uri": "https://localhost:8080/"
        },
        "id": "QlhrwEm_q2Fl",
        "outputId": "0bf662c1-0aa0-43de-f4c5-9de5e406f59d"
      },
      "execution_count": null,
      "outputs": [
        {
          "output_type": "stream",
          "name": "stdout",
          "text": [
            "[[[1 1 4]\n",
            "  [3 7 7]\n",
            "  [4 3 2]]\n",
            "\n",
            " [[7 7 9]\n",
            "  [4 2 1]\n",
            "  [4 5 4]]]\n"
          ]
        }
      ]
    },
    {
      "cell_type": "code",
      "source": [
        "#Convert a list of 24 sequential numbers into a 3D array with shape (2,3,4).\n",
        "arr = np.arange(24).reshape(2,3,4)\n",
        "print(arr)"
      ],
      "metadata": {
        "colab": {
          "base_uri": "https://localhost:8080/"
        },
        "id": "tPxPng4XrFP3",
        "outputId": "2bf966c5-941d-4f2b-8f7a-764099a00489"
      },
      "execution_count": null,
      "outputs": [
        {
          "output_type": "stream",
          "name": "stdout",
          "text": [
            "[[[ 0  1  2  3]\n",
            "  [ 4  5  6  7]\n",
            "  [ 8  9 10 11]]\n",
            "\n",
            " [[12 13 14 15]\n",
            "  [16 17 18 19]\n",
            "  [20 21 22 23]]]\n"
          ]
        }
      ]
    },
    {
      "cell_type": "code",
      "source": [
        "#Calculate the mean along the row and column.\n",
        "mean_row = np.mean(arr, axis=0)\n",
        "mean_column = np.mean(arr, axis=1)\n",
        "print(\"Mean along row : \", mean_row)\n",
        "print(\"Mean along column : \", mean_column)"
      ],
      "metadata": {
        "colab": {
          "base_uri": "https://localhost:8080/"
        },
        "id": "179Yx_WSrKFW",
        "outputId": "05c644bf-5ed5-4eae-a069-6ce0ae68fdd5"
      },
      "execution_count": null,
      "outputs": [
        {
          "output_type": "stream",
          "name": "stdout",
          "text": [
            "Mean along row :  [[4.  2.5 6.5 6. ]\n",
            " [6.  2.5 5.5 2. ]\n",
            " [6.  3.  3.5 6.5]]\n",
            "Mean along column :  [[4.66666667 3.33333333 7.         4.        ]\n",
            " [6.         2.         3.33333333 5.66666667]]\n"
          ]
        }
      ]
    },
    {
      "cell_type": "code",
      "source": [
        "#Create a 3D array with the shape (2,3,4) filled with ones.\n",
        "arr = np.ones((2,3,4))\n",
        "print(arr)"
      ],
      "metadata": {
        "colab": {
          "base_uri": "https://localhost:8080/"
        },
        "id": "zRKY2m-Kr0Eb",
        "outputId": "c7e41f5d-9d33-4cc6-ce1c-3f67a60eab75"
      },
      "execution_count": null,
      "outputs": [
        {
          "output_type": "stream",
          "name": "stdout",
          "text": [
            "[[[1. 1. 1. 1.]\n",
            "  [1. 1. 1. 1.]\n",
            "  [1. 1. 1. 1.]]\n",
            "\n",
            " [[1. 1. 1. 1.]\n",
            "  [1. 1. 1. 1.]\n",
            "  [1. 1. 1. 1.]]]\n"
          ]
        }
      ]
    },
    {
      "cell_type": "code",
      "source": [
        "#Generate a 4D array with the shape (2,2,2,2) containing all zeros.\n",
        "arr = np.zeros((2,2,2,2))\n",
        "print(arr)"
      ],
      "metadata": {
        "colab": {
          "base_uri": "https://localhost:8080/"
        },
        "id": "bz_ShWMZsECN",
        "outputId": "434995d3-c92a-4eea-de84-8ab42323d158"
      },
      "execution_count": null,
      "outputs": [
        {
          "output_type": "stream",
          "name": "stdout",
          "text": [
            "[[[[0. 0.]\n",
            "   [0. 0.]]\n",
            "\n",
            "  [[0. 0.]\n",
            "   [0. 0.]]]\n",
            "\n",
            "\n",
            " [[[0. 0.]\n",
            "   [0. 0.]]\n",
            "\n",
            "  [[0. 0.]\n",
            "   [0. 0.]]]]\n"
          ]
        }
      ]
    },
    {
      "cell_type": "code",
      "source": [
        "#Given a 1D array [3, 7, 2, 9, 5, 8, 1], extract the elements at indices 1, 3, and 5.\n",
        "arr = np.array([3, 7, 2, 9, 5, 8, 1])\n",
        "print(arr[[1,3,5]])"
      ],
      "metadata": {
        "colab": {
          "base_uri": "https://localhost:8080/"
        },
        "id": "1AdzZkW8sFM1",
        "outputId": "7ff33112-f23e-4315-f4ec-d4219a87dd3a"
      },
      "execution_count": null,
      "outputs": [
        {
          "output_type": "stream",
          "name": "stdout",
          "text": [
            "[7 9 8]\n"
          ]
        }
      ]
    },
    {
      "cell_type": "code",
      "source": [
        "#From a 2D array with shape (4,5), extract the element at row 2, column 3.\n",
        "arr = np.random.randint(1, 10, (4,5))\n",
        "print(arr)\n",
        "print(\"Element extracted from row 2, column 3 : \", arr[2,3])"
      ],
      "metadata": {
        "colab": {
          "base_uri": "https://localhost:8080/"
        },
        "id": "pZ9DdVt6sUFT",
        "outputId": "b3cda1e6-d2e8-4d68-d12d-17bbb44b26c9"
      },
      "execution_count": null,
      "outputs": [
        {
          "output_type": "stream",
          "name": "stdout",
          "text": [
            "[[3 3 2 9 1]\n",
            " [3 3 7 6 8]\n",
            " [4 6 3 6 1]\n",
            " [8 9 3 6 5]]\n",
            "Element extracted from row 2, column 3 :  6\n"
          ]
        }
      ]
    },
    {
      "cell_type": "code",
      "source": [
        "#From a 2D array, extract the entire second row.\n",
        "print(arr[1, :])"
      ],
      "metadata": {
        "colab": {
          "base_uri": "https://localhost:8080/"
        },
        "id": "dWd2afQZv8se",
        "outputId": "6a0894ef-b533-4f90-9b23-1e37d0563250"
      },
      "execution_count": null,
      "outputs": [
        {
          "output_type": "stream",
          "name": "stdout",
          "text": [
            "[3 3 7 6 8]\n"
          ]
        }
      ]
    },
    {
      "cell_type": "code",
      "source": [
        "#From a 2D array, extract a subarray containing rows 1 to 3 and columns 2 to 4.\n",
        "print(arr[1:3, 2:4])"
      ],
      "metadata": {
        "colab": {
          "base_uri": "https://localhost:8080/"
        },
        "id": "8qbSucHHwAHn",
        "outputId": "333f4315-b2f2-4f03-ed0e-6153512e8f55"
      },
      "execution_count": null,
      "outputs": [
        {
          "output_type": "stream",
          "name": "stdout",
          "text": [
            "[[7 6]\n",
            " [3 6]]\n"
          ]
        }
      ]
    },
    {
      "cell_type": "code",
      "source": [
        "#From a 3D array with shape (3,4,5), extract the element at position (depth 1,row 2,col 3).\n",
        "arr = np.random.randint(1, 10, (3,4,5))\n",
        "print(arr)\n",
        "print(\"Element extracted from position (depth 1,row 2,col 3) : \", arr[1,2,3])"
      ],
      "metadata": {
        "colab": {
          "base_uri": "https://localhost:8080/"
        },
        "id": "qAv2_dkmMord",
        "outputId": "45e8e0c4-d3fa-470f-e1b8-b531c4d375ef"
      },
      "execution_count": null,
      "outputs": [
        {
          "output_type": "stream",
          "name": "stdout",
          "text": [
            "[[[3 8 3 5 7]\n",
            "  [8 1 2 9 4]\n",
            "  [4 1 1 6 8]\n",
            "  [4 5 8 8 8]]\n",
            "\n",
            " [[2 1 6 3 6]\n",
            "  [6 7 1 8 7]\n",
            "  [7 8 3 9 6]\n",
            "  [7 6 8 5 9]]\n",
            "\n",
            " [[1 5 7 1 5]\n",
            "  [2 8 8 2 6]\n",
            "  [1 1 9 6 1]\n",
            "  [4 1 5 9 4]]]\n",
            "Element extracted from position (depth 1,row 2,col 3) :  9\n"
          ]
        }
      ]
    },
    {
      "cell_type": "code",
      "source": [
        "#From a 3D array, extract the entire first \"layer\" (all rows and columns of the first depth index).\n",
        "arr = np.random.randint(1, 10, (3,4,5))\n",
        "print(arr)\n",
        "print(\"Entire first layer : \\n\", arr[0, :, :])"
      ],
      "metadata": {
        "colab": {
          "base_uri": "https://localhost:8080/"
        },
        "id": "aFRnegiFM-tq",
        "outputId": "3bcc36bd-ba27-4c87-b920-a5d7810f7e5f"
      },
      "execution_count": null,
      "outputs": [
        {
          "output_type": "stream",
          "name": "stdout",
          "text": [
            "[[[2 1 1 5 3]\n",
            "  [9 6 1 2 4]\n",
            "  [9 9 1 9 5]\n",
            "  [3 2 1 7 6]]\n",
            "\n",
            " [[2 7 4 4 5]\n",
            "  [9 7 5 2 9]\n",
            "  [5 2 6 7 4]\n",
            "  [7 3 3 5 6]]\n",
            "\n",
            " [[9 4 4 5 5]\n",
            "  [4 8 9 6 2]\n",
            "  [3 6 9 3 3]\n",
            "  [2 7 7 1 5]]]\n",
            "Entire first layer : \n",
            " [[2 1 1 5 3]\n",
            " [9 6 1 2 4]\n",
            " [9 9 1 9 5]\n",
            " [3 2 1 7 6]]\n"
          ]
        }
      ]
    },
    {
      "cell_type": "code",
      "source": [
        "#From a 3D array of shape (4,5,6), extract a subarray containing depths 1 to 3, rows 2 to 4, and columns 3 to 5.\n",
        "arr = np.random.randint(1, 10, (4, 5, 6))\n",
        "print(\"Original array : \", arr)\n",
        "print(\"Extracted array : \", arr[1:4, 2:5, 3:6])"
      ],
      "metadata": {
        "colab": {
          "base_uri": "https://localhost:8080/"
        },
        "id": "2kuVWKTiNjRA",
        "outputId": "6a8fbb4c-90cd-413c-d4a2-9d3f64216a34"
      },
      "execution_count": null,
      "outputs": [
        {
          "output_type": "stream",
          "name": "stdout",
          "text": [
            "Original array :  [[[1 4 1 7 4 7]\n",
            "  [3 5 7 7 2 3]\n",
            "  [9 8 5 8 2 5]\n",
            "  [9 6 9 9 4 5]\n",
            "  [6 4 1 1 8 6]]\n",
            "\n",
            " [[1 4 6 6 4 7]\n",
            "  [9 8 9 2 1 9]\n",
            "  [9 2 6 7 2 2]\n",
            "  [8 7 2 7 2 7]\n",
            "  [1 3 9 2 3 5]]\n",
            "\n",
            " [[9 6 4 2 8 8]\n",
            "  [5 9 7 7 1 5]\n",
            "  [8 3 1 7 8 8]\n",
            "  [4 9 9 9 1 7]\n",
            "  [8 1 7 3 7 2]]\n",
            "\n",
            " [[3 5 8 8 9 9]\n",
            "  [3 3 4 2 3 3]\n",
            "  [1 1 8 9 3 5]\n",
            "  [9 8 1 1 1 8]\n",
            "  [4 9 3 7 6 1]]]\n",
            "Extracted array :  [[[7 2 2]\n",
            "  [7 2 7]\n",
            "  [2 3 5]]\n",
            "\n",
            " [[7 8 8]\n",
            "  [9 1 7]\n",
            "  [3 7 2]]\n",
            "\n",
            " [[9 3 5]\n",
            "  [1 1 8]\n",
            "  [7 6 1]]]\n"
          ]
        }
      ]
    },
    {
      "cell_type": "code",
      "source": [
        "#Reshape a 1D array of 12 elements into a 3x4 2D array\n",
        "arr = np.arange(12)\n",
        "print(arr)\n",
        "print(\"Reshaped array : \\n\", arr.reshape(3,4))"
      ],
      "metadata": {
        "colab": {
          "base_uri": "https://localhost:8080/"
        },
        "id": "wADHuc3_OE4N",
        "outputId": "2634af5d-d604-49af-de2a-f94d18e5172b"
      },
      "execution_count": null,
      "outputs": [
        {
          "output_type": "stream",
          "name": "stdout",
          "text": [
            "[ 0  1  2  3  4  5  6  7  8  9 10 11]\n",
            "Reshaped array : \n",
            " [[ 0  1  2  3]\n",
            " [ 4  5  6  7]\n",
            " [ 8  9 10 11]]\n"
          ]
        }
      ]
    },
    {
      "cell_type": "code",
      "source": [
        "#Reshape a 2D array of shape (3,4) into a 1D array.\n",
        "arr = np.random.randint(1, 10, (3,4))\n",
        "print(arr)\n",
        "print(\"Reshaped array : \\n\", arr.flatten())"
      ],
      "metadata": {
        "colab": {
          "base_uri": "https://localhost:8080/"
        },
        "id": "MqZgpSEHOee5",
        "outputId": "a42a4b98-4eb8-4e2d-e499-f29fabddccbc"
      },
      "execution_count": null,
      "outputs": [
        {
          "output_type": "stream",
          "name": "stdout",
          "text": [
            "[[5 9 3 5]\n",
            " [6 7 2 5]\n",
            " [2 3 7 7]]\n",
            "Reshaped array : \n",
            " [5 9 3 5 6 7 2 5 2 3 7 7]\n"
          ]
        }
      ]
    },
    {
      "cell_type": "code",
      "source": [
        "#Transpose a 2D array of shape (2,5).\n",
        "arr = np.random.randint(1, 10, (2, 5))\n",
        "print(arr)\n",
        "print(\"Transposed array : \\n\", arr.transpose())"
      ],
      "metadata": {
        "colab": {
          "base_uri": "https://localhost:8080/"
        },
        "id": "Q7Yl1BAzO1HU",
        "outputId": "8411e02a-8800-42e6-dace-f8f38cb081a4"
      },
      "execution_count": null,
      "outputs": [
        {
          "output_type": "stream",
          "name": "stdout",
          "text": [
            "[[6 4 3 7 2]\n",
            " [1 9 6 2 1]]\n",
            "Transposed array : \n",
            " [[6 1]\n",
            " [4 9]\n",
            " [3 6]\n",
            " [7 2]\n",
            " [2 1]]\n"
          ]
        }
      ]
    },
    {
      "cell_type": "code",
      "source": [
        "#Reshape a 3D array of shape (2,3,4) into a 2D array of shape (6,4).\n",
        "arr = np.random.randint(1, 10, (2,3,4))\n",
        "print(arr)\n",
        "print(\"Reshaped array : \\n\", arr.reshape(6,4))"
      ],
      "metadata": {
        "colab": {
          "base_uri": "https://localhost:8080/"
        },
        "id": "RxlpD2xAO5e4",
        "outputId": "0105824a-913b-4ec1-830b-34472ee05795"
      },
      "execution_count": null,
      "outputs": [
        {
          "output_type": "stream",
          "name": "stdout",
          "text": [
            "[[[1 3 6 1]\n",
            "  [5 2 5 7]\n",
            "  [8 7 4 1]]\n",
            "\n",
            " [[8 5 5 6]\n",
            "  [4 3 5 1]\n",
            "  [8 6 5 8]]]\n",
            "Reshaped array : \n",
            " [[1 3 6 1]\n",
            " [5 2 5 7]\n",
            " [8 7 4 1]\n",
            " [8 5 5 6]\n",
            " [4 3 5 1]\n",
            " [8 6 5 8]]\n"
          ]
        }
      ]
    },
    {
      "cell_type": "code",
      "source": [
        "#Transpose a 3D array, swapping the first and third dimensions\n",
        "arr = np.random.randint(1, 10, (2,3,4))\n",
        "print(arr)\n",
        "print(\"Transposed array : \\n\", arr.transpose((2,0,1)))"
      ],
      "metadata": {
        "colab": {
          "base_uri": "https://localhost:8080/"
        },
        "id": "cgeTWs2NPSfW",
        "outputId": "94969f18-b8c9-4953-a851-8cb9a9ef32c1"
      },
      "execution_count": null,
      "outputs": [
        {
          "output_type": "stream",
          "name": "stdout",
          "text": [
            "[[[3 7 3 5]\n",
            "  [9 1 3 5]\n",
            "  [9 9 8 9]]\n",
            "\n",
            " [[6 7 5 7]\n",
            "  [4 8 1 6]\n",
            "  [6 4 7 1]]]\n",
            "Transposed array : \n",
            " [[[3 9 9]\n",
            "  [6 4 6]]\n",
            "\n",
            " [[7 1 9]\n",
            "  [7 8 4]]\n",
            "\n",
            " [[3 3 8]\n",
            "  [5 1 7]]\n",
            "\n",
            " [[5 5 9]\n",
            "  [7 6 1]]]\n"
          ]
        }
      ]
    },
    {
      "cell_type": "code",
      "source": [
        "#Stack two 2D arrays of shape (3,4) to create a 3D array of shape (2,3,4).\n",
        "arr1 = np.random.randint(1, 10, (3, 4))\n",
        "arr2 = np.random.randint(1, 10, (3, 4))\n",
        "\n",
        "stacked_arr = np.stack((arr1, arr2), axis=0)\n",
        "\n",
        "print(\"Array 1:\\n\", arr1)\n",
        "print(\"\\nArray 2:\\n\", arr2)\n",
        "print(\"\\nStacked 3D Array:\\n\", stacked_arr)\n",
        "print(\"\\nShape of stacked array:\", stacked_arr.shape)\n"
      ],
      "metadata": {
        "colab": {
          "base_uri": "https://localhost:8080/"
        },
        "id": "Gmu6ui5VPVWp",
        "outputId": "b5dacf96-e96a-42de-cc3e-4fb7ffa207f1"
      },
      "execution_count": null,
      "outputs": [
        {
          "output_type": "stream",
          "name": "stdout",
          "text": [
            "Array 1:\n",
            " [[4 9 1 8]\n",
            " [4 8 8 1]\n",
            " [3 7 7 1]]\n",
            "\n",
            "Array 2:\n",
            " [[7 8 3 6]\n",
            " [1 9 2 1]\n",
            " [1 5 6 4]]\n",
            "\n",
            "Stacked 3D Array:\n",
            " [[[4 9 1 8]\n",
            "  [4 8 8 1]\n",
            "  [3 7 7 1]]\n",
            "\n",
            " [[7 8 3 6]\n",
            "  [1 9 2 1]\n",
            "  [1 5 6 4]]]\n",
            "\n",
            "Shape of stacked array: (2, 3, 4)\n"
          ]
        }
      ]
    },
    {
      "cell_type": "code",
      "source": [
        "#Add two 1D arrays of the same length element-wise.\n",
        "arr1 = [1, 2, 3, 4, 5]\n",
        "arr2 = [5, 6, 7, 8, 9]\n",
        "\n",
        "result = arr1 + arr2\n",
        "print(\"Array 1: \\n\", arr1)\n",
        "print(\"Array 2: \\n\", arr2)\n",
        "print(\"Result: \\n\", result)"
      ],
      "metadata": {
        "colab": {
          "base_uri": "https://localhost:8080/"
        },
        "id": "u8BcjwW7PnPc",
        "outputId": "e90bc412-8d54-4a94-ed41-d778932b300d"
      },
      "execution_count": null,
      "outputs": [
        {
          "output_type": "stream",
          "name": "stdout",
          "text": [
            "Array 1: \n",
            " [1, 2, 3, 4, 5]\n",
            "Array 2: \n",
            " [5, 6, 7, 8, 9]\n",
            "Result: \n",
            " [1, 2, 3, 4, 5, 5, 6, 7, 8, 9]\n"
          ]
        }
      ]
    },
    {
      "cell_type": "code",
      "source": [
        "#Multiply a 2D array by a scalar value.\n",
        "arr = np.random.randint(1, 10, (3, 3))\n",
        "result = arr*2\n",
        "print(\"Original array: \\n\", arr)\n",
        "print(\"\\nResult: \\n\", result)"
      ],
      "metadata": {
        "colab": {
          "base_uri": "https://localhost:8080/"
        },
        "id": "juIY8pJniUWk",
        "outputId": "0c7aba20-a93a-4d4a-9062-9fe8e29b8299"
      },
      "execution_count": null,
      "outputs": [
        {
          "output_type": "stream",
          "name": "stdout",
          "text": [
            "Original array: \n",
            " [[4 9 3]\n",
            " [6 8 4]\n",
            " [3 6 8]]\n",
            "\n",
            "Result: \n",
            " [[ 8 18  6]\n",
            " [12 16  8]\n",
            " [ 6 12 16]]\n"
          ]
        }
      ]
    },
    {
      "cell_type": "code",
      "source": [
        "#Calculate the square root of each element in an array.\n",
        "arr = np.random.randint(1, 10, (3, 3))\n",
        "result = np.sqrt(arr)\n",
        "print(\"Original array: \\n\", arr)\n",
        "print(\"\\nResult: \\n\", result)"
      ],
      "metadata": {
        "colab": {
          "base_uri": "https://localhost:8080/"
        },
        "id": "jVv4YO-UiuP6",
        "outputId": "c8db9e61-55b4-4d09-aa18-07a1d428a506"
      },
      "execution_count": null,
      "outputs": [
        {
          "output_type": "stream",
          "name": "stdout",
          "text": [
            "Original array: \n",
            " [[5 1 3]\n",
            " [2 2 7]\n",
            " [7 6 1]]\n",
            "\n",
            "Result: \n",
            " [[2.23606798 1.         1.73205081]\n",
            " [1.41421356 1.41421356 2.64575131]\n",
            " [2.64575131 2.44948974 1.        ]]\n"
          ]
        }
      ]
    },
    {
      "cell_type": "code",
      "source": [
        "#Perform element-wise addition between two 3D arrays of the same shape.\n",
        "arr1 = np.random.randint(1, 10, (2, 3, 4))\n",
        "arr2 = np.random.randint(1, 10, (2, 3, 4))\n",
        "result = arr1 + arr2\n",
        "print(\"Array 1: \\n\", arr1)\n",
        "print(\"\\nArray 2: \\n\", arr2)\n",
        "print(\"\\nResult: \\n\", result)"
      ],
      "metadata": {
        "colab": {
          "base_uri": "https://localhost:8080/"
        },
        "id": "JAO6Xb1hiyx1",
        "outputId": "7d43f26c-3257-48f0-f453-b2e2156c1653"
      },
      "execution_count": null,
      "outputs": [
        {
          "output_type": "stream",
          "name": "stdout",
          "text": [
            "Array 1: \n",
            " [[[2 3 4 5]\n",
            "  [6 4 1 7]\n",
            "  [8 1 1 9]]\n",
            "\n",
            " [[8 3 8 5]\n",
            "  [1 1 9 9]\n",
            "  [1 1 5 6]]]\n",
            "\n",
            "Array 2: \n",
            " [[[6 2 7 4]\n",
            "  [2 9 5 2]\n",
            "  [6 8 7 7]]\n",
            "\n",
            " [[2 1 3 7]\n",
            "  [2 2 1 6]\n",
            "  [5 2 3 5]]]\n",
            "\n",
            "Result: \n",
            " [[[ 8  5 11  9]\n",
            "  [ 8 13  6  9]\n",
            "  [14  9  8 16]]\n",
            "\n",
            " [[10  4 11 12]\n",
            "  [ 3  3 10 15]\n",
            "  [ 6  3  8 11]]]\n"
          ]
        }
      ]
    },
    {
      "cell_type": "code",
      "source": [
        "#Calculate the mean along the second axis of a 3D array.\n",
        "arr = np.random.randint(1, 10, (2, 3, 4))\n",
        "result = np.mean(arr, axis=1)\n",
        "print(\"Original array: \\n\", arr)\n",
        "print(\"\\nResult: \\n\", result)"
      ],
      "metadata": {
        "colab": {
          "base_uri": "https://localhost:8080/"
        },
        "id": "ZelfDnGqjAKn",
        "outputId": "8aafaa03-f9e4-417c-dad7-6ec7f53e7258"
      },
      "execution_count": null,
      "outputs": [
        {
          "output_type": "stream",
          "name": "stdout",
          "text": [
            "Original array: \n",
            " [[[3 8 7 2]\n",
            "  [4 9 3 9]\n",
            "  [3 6 8 7]]\n",
            "\n",
            " [[8 8 1 8]\n",
            "  [1 6 2 5]\n",
            "  [9 3 7 8]]]\n",
            "\n",
            "Result: \n",
            " [[3.33333333 7.66666667 6.         6.        ]\n",
            " [6.         5.66666667 3.33333333 7.        ]]\n"
          ]
        }
      ]
    },
    {
      "cell_type": "code",
      "source": [
        "#Apply a function (like np.sin) to each element of a 3D array.\n",
        "arr = np.random.randint(1, 10, (2, 3, 4))\n",
        "result = np.sin(arr)\n",
        "print(\"Original array: \\n\", arr)\n",
        "print(\"\\nResult: \\n\", result)"
      ],
      "metadata": {
        "colab": {
          "base_uri": "https://localhost:8080/"
        },
        "id": "vEtLsi3MjFA0",
        "outputId": "005cfdcc-6ad7-487a-8340-97b8bcd4f179"
      },
      "execution_count": null,
      "outputs": [
        {
          "output_type": "stream",
          "name": "stdout",
          "text": [
            "Original array: \n",
            " [[[9 8 3 6]\n",
            "  [4 6 2 9]\n",
            "  [8 2 1 8]]\n",
            "\n",
            " [[9 8 3 9]\n",
            "  [9 3 2 7]\n",
            "  [4 7 9 2]]]\n",
            "\n",
            "Result: \n",
            " [[[ 0.41211849  0.98935825  0.14112001 -0.2794155 ]\n",
            "  [-0.7568025  -0.2794155   0.90929743  0.41211849]\n",
            "  [ 0.98935825  0.90929743  0.84147098  0.98935825]]\n",
            "\n",
            " [[ 0.41211849  0.98935825  0.14112001  0.41211849]\n",
            "  [ 0.41211849  0.14112001  0.90929743  0.6569866 ]\n",
            "  [-0.7568025   0.6569866   0.41211849  0.90929743]]]\n"
          ]
        }
      ]
    },
    {
      "cell_type": "code",
      "source": [
        "#Add a 1D array of shape (3,) to each row of a 2D array with shape (4,3).\n",
        "arr1d = np.array([1, 2, 3])\n",
        "arr2d = np.random.randint(1, 10, (4, 3))\n",
        "result = arr2d + arr1d\n",
        "print(\"Array 1D: \\n\", arr1d)\n",
        "print(\"\\nArray 2D: \\n\", arr2d)\n",
        "print(\"\\nResult: \\n\", result)"
      ],
      "metadata": {
        "colab": {
          "base_uri": "https://localhost:8080/"
        },
        "id": "XWSK3FZOjIy4",
        "outputId": "86d7492e-f37b-4e09-e6d6-ec83d1d21b0f"
      },
      "execution_count": null,
      "outputs": [
        {
          "output_type": "stream",
          "name": "stdout",
          "text": [
            "Array 1D: \n",
            " [1 2 3]\n",
            "\n",
            "Array 2D: \n",
            " [[9 9 8]\n",
            " [2 5 5]\n",
            " [1 7 4]\n",
            " [2 5 6]]\n",
            "\n",
            "Result: \n",
            " [[10 11 11]\n",
            " [ 3  7  8]\n",
            " [ 2  9  7]\n",
            " [ 3  7  9]]\n"
          ]
        }
      ]
    },
    {
      "cell_type": "code",
      "source": [
        "#Multiply a 2D array of shape (3,4) with a 1D array of shape (4,).\n",
        "arr2d = np.random.randint(1, 10, (3, 4))\n",
        "arr1d = np.array([2, 4, 6, 8])\n",
        "result = arr1d * arr2d\n",
        "print(\"Array 1D: \\n\", arr1d)\n",
        "print(\"\\nArray 2D: \\n\", arr2d)\n",
        "print(\"\\nResult: \\n\", result)"
      ],
      "metadata": {
        "colab": {
          "base_uri": "https://localhost:8080/"
        },
        "id": "k0JSrjAZjSd1",
        "outputId": "6221c13d-beae-40a6-8af0-9e20d2b5689b"
      },
      "execution_count": null,
      "outputs": [
        {
          "output_type": "stream",
          "name": "stdout",
          "text": [
            "Array 1D: \n",
            " [2 4 6 8]\n",
            "\n",
            "Array 2D: \n",
            " [[5 1 2 7]\n",
            " [7 8 7 2]\n",
            " [1 4 2 8]]\n",
            "\n",
            "Result: \n",
            " [[10  4 12 56]\n",
            " [14 32 42 16]\n",
            " [ 2 16 12 64]]\n"
          ]
        }
      ]
    },
    {
      "cell_type": "code",
      "source": [
        "#Add a 1D array of shape (4,) to each \"row\" across all \"layers\" of a 3D array with shape (3,5,4).\n",
        "arr1d = np.array([1, 2, 3, 4])\n",
        "arr3d = np.random.randint(1, 10, (3, 5, 4))\n",
        "result = arr3d + arr1d\n",
        "print(\"Array 1D: \\n\", arr1d)\n",
        "print(\"\\nArray 3D: \\n\", arr3d)\n",
        "print(\"\\nResult: \\n\", result)"
      ],
      "metadata": {
        "colab": {
          "base_uri": "https://localhost:8080/"
        },
        "id": "X6-qoxu8juBe",
        "outputId": "cbd355fc-5dde-40e9-cf2c-e95df0c257f5"
      },
      "execution_count": null,
      "outputs": [
        {
          "output_type": "stream",
          "name": "stdout",
          "text": [
            "Array 1D: \n",
            " [1 2 3 4]\n",
            "\n",
            "Array 3D: \n",
            " [[[6 4 9 1]\n",
            "  [7 5 5 1]\n",
            "  [1 4 2 3]\n",
            "  [3 7 1 1]\n",
            "  [9 3 1 5]]\n",
            "\n",
            " [[5 1 8 7]\n",
            "  [5 5 4 2]\n",
            "  [3 8 6 6]\n",
            "  [4 3 7 4]\n",
            "  [6 1 1 3]]\n",
            "\n",
            " [[5 3 6 5]\n",
            "  [1 1 6 3]\n",
            "  [4 4 3 6]\n",
            "  [6 9 7 4]\n",
            "  [6 9 8 4]]]\n",
            "\n",
            "Result: \n",
            " [[[ 7  6 12  5]\n",
            "  [ 8  7  8  5]\n",
            "  [ 2  6  5  7]\n",
            "  [ 4  9  4  5]\n",
            "  [10  5  4  9]]\n",
            "\n",
            " [[ 6  3 11 11]\n",
            "  [ 6  7  7  6]\n",
            "  [ 4 10  9 10]\n",
            "  [ 5  5 10  8]\n",
            "  [ 7  3  4  7]]\n",
            "\n",
            " [[ 6  5  9  9]\n",
            "  [ 2  3  9  7]\n",
            "  [ 5  6  6 10]\n",
            "  [ 7 11 10  8]\n",
            "  [ 7 11 11  8]]]\n"
          ]
        }
      ]
    },
    {
      "cell_type": "code",
      "source": [
        "#Multiply a 2D array of shape (3,4) with each \"layer\" of a 3D array with shape (2,3,4).\n",
        "arr2d = np.random.randint(1, 10, (3, 4))\n",
        "arr3d = np.random.randint(1, 10, (2, 3, 4))\n",
        "result = arr3d * arr2d\n",
        "print(\"Array 2d : \\n\", arr2d)\n",
        "print(\"Array 3d : \\n\", arr3d)\n",
        "print(\"Result : \\n\", result)"
      ],
      "metadata": {
        "colab": {
          "base_uri": "https://localhost:8080/"
        },
        "id": "p_SBhn-rlCec",
        "outputId": "76a30c59-bacd-418e-da5f-8e161fe023ab"
      },
      "execution_count": null,
      "outputs": [
        {
          "output_type": "stream",
          "name": "stdout",
          "text": [
            "Array 2d : \n",
            " [[4 3 6 6]\n",
            " [7 6 5 4]\n",
            " [9 3 7 9]]\n",
            "Array 3d : \n",
            " [[[1 2 7 7]\n",
            "  [3 4 6 1]\n",
            "  [8 8 3 6]]\n",
            "\n",
            " [[8 9 1 1]\n",
            "  [3 6 5 5]\n",
            "  [1 7 4 9]]]\n",
            "Result : \n",
            " [[[ 4  6 42 42]\n",
            "  [21 24 30  4]\n",
            "  [72 24 21 54]]\n",
            "\n",
            " [[32 27  6  6]\n",
            "  [21 36 25 20]\n",
            "  [ 9 21 28 81]]]\n"
          ]
        }
      ]
    },
    {
      "cell_type": "code",
      "source": [
        "#Scale each \"layer\" of a 3D array with shape (4,3,5) by a different scalar value from a 1D array of shape (4,).\n",
        "arr3D = np.random.randint(1, 10, (4, 3, 5))\n",
        "scalars = np.array([1, 2, 3, 4])\n",
        "result = arr3D * scalars[:, np.newaxis, np.newaxis]\n",
        "print(\"Array 3D: \\n\", arr3D)\n",
        "print(\"Scalars: \\n\", scalars)\n",
        "print(\"Result: \\n\", result)"
      ],
      "metadata": {
        "colab": {
          "base_uri": "https://localhost:8080/"
        },
        "id": "Ns1O26UElupg",
        "outputId": "7ee0f4cb-8f3e-47ee-90f3-fd2c61a88bc8"
      },
      "execution_count": null,
      "outputs": [
        {
          "output_type": "stream",
          "name": "stdout",
          "text": [
            "Array 3D: \n",
            " [[[5 1 3 3 2]\n",
            "  [2 7 4 3 1]\n",
            "  [3 4 6 7 4]]\n",
            "\n",
            " [[3 1 3 2 1]\n",
            "  [9 7 4 8 3]\n",
            "  [3 6 5 8 2]]\n",
            "\n",
            " [[4 8 8 1 8]\n",
            "  [9 3 1 9 1]\n",
            "  [8 9 8 5 6]]\n",
            "\n",
            " [[6 7 6 2 4]\n",
            "  [7 4 1 5 6]\n",
            "  [7 7 4 5 1]]]\n",
            "Scalars: \n",
            " [1 2 3 4]\n",
            "Result: \n",
            " [[[ 5  1  3  3  2]\n",
            "  [ 2  7  4  3  1]\n",
            "  [ 3  4  6  7  4]]\n",
            "\n",
            " [[ 6  2  6  4  2]\n",
            "  [18 14  8 16  6]\n",
            "  [ 6 12 10 16  4]]\n",
            "\n",
            " [[12 24 24  3 24]\n",
            "  [27  9  3 27  3]\n",
            "  [24 27 24 15 18]]\n",
            "\n",
            " [[24 28 24  8 16]\n",
            "  [28 16  4 20 24]\n",
            "  [28 28 16 20  4]]]\n"
          ]
        }
      ]
    },
    {
      "cell_type": "code",
      "source": [
        "#Create a pandas Series with the values [5, 10, 15, 20, 25].\n",
        "import pandas as pd\n",
        "series = pd.Series([5, 10, 15, 20, 25])\n",
        "print(series)"
      ],
      "metadata": {
        "colab": {
          "base_uri": "https://localhost:8080/"
        },
        "id": "kvzRGAn4l-es",
        "outputId": "0c5dc586-5376-41c6-9d93-1ea5ab9322e6"
      },
      "execution_count": null,
      "outputs": [
        {
          "output_type": "stream",
          "name": "stdout",
          "text": [
            "0     5\n",
            "1    10\n",
            "2    15\n",
            "3    20\n",
            "4    25\n",
            "dtype: int64\n"
          ]
        }
      ]
    },
    {
      "cell_type": "code",
      "source": [
        "#Create a Series with values [100, 200, 300, 400, 500] and index labels ['a', 'b', 'c'\n",
        "series = pd.Series([100, 200, 300, 400, 500], index=['a', 'b', 'c', 'd', 'e'])\n",
        "print(series)"
      ],
      "metadata": {
        "colab": {
          "base_uri": "https://localhost:8080/"
        },
        "id": "psQIRHcSmTZ7",
        "outputId": "db5bd9c3-f036-4e51-cda2-38bb06237bed"
      },
      "execution_count": null,
      "outputs": [
        {
          "output_type": "stream",
          "name": "stdout",
          "text": [
            "a    100\n",
            "b    200\n",
            "c    300\n",
            "d    400\n",
            "e    500\n",
            "dtype: int64\n"
          ]
        }
      ]
    },
    {
      "cell_type": "code",
      "source": [
        "#Create a Series from this dictionary: {'apple': 3, 'banana': 5, 'orange': 2}.\n",
        "data = {'apple': 3, 'banana': 5, 'orange': 2}\n",
        "series = pd.Series(data)\n",
        "print(series)"
      ],
      "metadata": {
        "colab": {
          "base_uri": "https://localhost:8080/"
        },
        "id": "3x9CR7AVmcQD",
        "outputId": "da29f4f4-9bd3-4c05-e8ae-377445bd8a97"
      },
      "execution_count": null,
      "outputs": [
        {
          "output_type": "stream",
          "name": "stdout",
          "text": [
            "apple     3\n",
            "banana    5\n",
            "orange    2\n",
            "dtype: int64\n"
          ]
        }
      ]
    },
    {
      "cell_type": "code",
      "source": [
        "#For the Series s = pd.Series([10, 20, 30, 40, 50]): Find its length Find its mean value Find its maximum value\n",
        "data = ([10, 20, 30, 40, 50])\n",
        "series = pd.Series(data)\n",
        "print(\"Length : \", len(series))\n",
        "print(\"Mean : \", series.mean())\n",
        "print(\"Maximum : \", series.max())"
      ],
      "metadata": {
        "colab": {
          "base_uri": "https://localhost:8080/"
        },
        "id": "jS_Z59ZmmjXB",
        "outputId": "580ae9f7-96f0-4f4d-9d90-0a6e78086edc"
      },
      "execution_count": null,
      "outputs": [
        {
          "output_type": "stream",
          "name": "stdout",
          "text": [
            "Length :  5\n",
            "Mean :  30.0\n",
            "Maximum :  50\n"
          ]
        }
      ]
    },
    {
      "cell_type": "code",
      "source": [
        "#Create a DataFrame from this dictionary:\n",
        "data = {\n",
        "    'Name': ['John', 'Emma', 'Alex'],\n",
        "    'Age': [25, 30, 22],\n",
        "    'City': ['New York', 'London', 'Paris']\n",
        "}\n",
        "df = pd.DataFrame(data)\n",
        "print(df)"
      ],
      "metadata": {
        "colab": {
          "base_uri": "https://localhost:8080/"
        },
        "id": "9TyoeE8VnDCV",
        "outputId": "1b20f965-2f6d-49a5-e53f-90b457ec59eb"
      },
      "execution_count": null,
      "outputs": [
        {
          "output_type": "stream",
          "name": "stdout",
          "text": [
            "   Name  Age      City\n",
            "0  John   25  New York\n",
            "1  Emma   30    London\n",
            "2  Alex   22     Paris\n"
          ]
        }
      ]
    },
    {
      "cell_type": "code",
      "source": [
        "#Create a simple DataFrame with 3 rows and 2 columns named 'A' and 'B' with any numbers you choose.\n",
        "data = {\n",
        "    'A': [1, 2, 3],\n",
        "    'B': [4, 5, 6],\n",
        "    'C': [7, 8, 9]\n",
        "}\n",
        "df = pd.DataFrame(data)\n",
        "print(df)"
      ],
      "metadata": {
        "colab": {
          "base_uri": "https://localhost:8080/"
        },
        "id": "rpgkT0txnmDk",
        "outputId": "fec28e56-3334-4f85-de67-46167a1ee850"
      },
      "execution_count": null,
      "outputs": [
        {
          "output_type": "stream",
          "name": "stdout",
          "text": [
            "   A  B  C\n",
            "0  1  4  7\n",
            "1  2  5  8\n",
            "2  3  6  9\n"
          ]
        }
      ]
    },
    {
      "cell_type": "code",
      "source": [
        "#Convert this list of lists into a DataFrame with column names 'Product', 'Price', 'Quantity':\n",
        "data = [\n",
        "    ['Apple', 1.2, 10],\n",
        "    ['Banana', 0.5, 15],\n",
        "    ['Orange', 0.8, 8]\n",
        "]\n",
        "df = pd.DataFrame(data, columns=['Product', 'Price', 'Quantity'], index = ['A', 'B', 'C'])\n",
        "print(df)"
      ],
      "metadata": {
        "colab": {
          "base_uri": "https://localhost:8080/"
        },
        "id": "D40pekkJnr4x",
        "outputId": "a091f299-9c40-436e-8ef4-3fc18d67da42"
      },
      "execution_count": null,
      "outputs": [
        {
          "output_type": "stream",
          "name": "stdout",
          "text": [
            "  Product  Price  Quantity\n",
            "A   Apple    1.2        10\n",
            "B  Banana    0.5        15\n",
            "C  Orange    0.8         8\n"
          ]
        }
      ]
    },
    {
      "cell_type": "code",
      "source": [
        "#For the DataFrame created in question 5:\n",
        "#Display the column names\n",
        "#Display the first 2 rows\n",
        "#Display information about the DataFrame (hint: use .info())\n",
        "data = {\n",
        "    'Name': ['John', 'Emma', 'Alex'],\n",
        "    'Age': [25, 30, 22],\n",
        "    'City': ['New York', 'London', 'Paris']\n",
        "}\n",
        "df = pd.DataFrame(data)\n",
        "print(\"Column names : \", df.columns)\n",
        "print(\"First 2 rows : \\n\", df.head(2))\n",
        "print(df.info())"
      ],
      "metadata": {
        "colab": {
          "base_uri": "https://localhost:8080/"
        },
        "id": "I6Sqs-Y8n5l8",
        "outputId": "3199d3f6-b01e-48cc-848e-30b1e401d834"
      },
      "execution_count": null,
      "outputs": [
        {
          "output_type": "stream",
          "name": "stdout",
          "text": [
            "Column names :  Index(['Name', 'Age', 'City'], dtype='object')\n",
            "First 2 rows : \n",
            "    Name  Age      City\n",
            "0  John   25  New York\n",
            "1  Emma   30    London\n",
            "<class 'pandas.core.frame.DataFrame'>\n",
            "RangeIndex: 3 entries, 0 to 2\n",
            "Data columns (total 3 columns):\n",
            " #   Column  Non-Null Count  Dtype \n",
            "---  ------  --------------  ----- \n",
            " 0   Name    3 non-null      object\n",
            " 1   Age     3 non-null      int64 \n",
            " 2   City    3 non-null      object\n",
            "dtypes: int64(1), object(2)\n",
            "memory usage: 204.0+ bytes\n",
            "None\n"
          ]
        }
      ]
    },
    {
      "cell_type": "code",
      "source": [
        "#Using this DataFrame:\n",
        "#df = pd.DataFrame({ 'A': [1, 2, 3], 'B': [4, 5, 6], 'C': [7, 8, 9] })\n",
        "#Select column 'A'\n",
        "#Select columns 'A' and 'C'\n",
        "#Select the value at row 1, column 'B'\n",
        "\n",
        "df = pd.DataFrame({\n",
        "    'A': [1, 2, 3],\n",
        "    'B': [4, 5, 6],\n",
        "    'C': [7, 8, 9]\n",
        "})\n",
        "\n",
        "col_A = df['A']\n",
        "print(\"Column A:\\n\", col_A)\n",
        "cols_AC = df[['A', 'C']]\n",
        "print(\"\\nColumns A and C:\\n\", cols_AC)\n",
        "value_B1 = df.at[1, 'B']  # OR df.loc[1, 'B']\n",
        "print(\"\\nValue at row 1, column 'B':\", value_B1)"
      ],
      "metadata": {
        "colab": {
          "base_uri": "https://localhost:8080/"
        },
        "id": "jYAoAoCJoz3Q",
        "outputId": "4b92afa6-ef72-41e4-9c47-abd9e545d782"
      },
      "execution_count": null,
      "outputs": [
        {
          "output_type": "stream",
          "name": "stdout",
          "text": [
            "Column A:\n",
            " 0    1\n",
            "1    2\n",
            "2    3\n",
            "Name: A, dtype: int64\n",
            "\n",
            "Columns A and C:\n",
            "    A  C\n",
            "0  1  7\n",
            "1  2  8\n",
            "2  3  9\n",
            "\n",
            "Value at row 1, column 'B': 5\n"
          ]
        }
      ]
    },
    {
      "cell_type": "code",
      "source": [
        "#question16\n",
        "df = pd.DataFrame({\n",
        "    'Name': ['John', 'Emma', 'Alex', 'Sarah', 'Mike'],\n",
        "    'Age': [25, 30, 22, 28, 32],\n",
        "    'City': ['New York', 'London', 'Paris', 'Berlin', 'Tokyo'],\n",
        "    'Salary': [50000, 60000, 45000, 55000, 65000]\n",
        "})\n",
        "\n",
        "age_filter = df[df['Age'] > 25]\n",
        "print(\"Rows where Age > 25:\\n\", age_filter)\n",
        "city_filter = df[df['City'].isin(['London', 'Paris'])]\n",
        "print(\"\\nRows where City is 'London' or 'Paris':\\n\", city_filter)\n",
        "salary_filter = df[df['Salary'].between(45000, 60000)]\n",
        "print(\"\\nRows where Salary is between 45000 and 60000:\\n\", salary_filter)"
      ],
      "metadata": {
        "colab": {
          "base_uri": "https://localhost:8080/"
        },
        "id": "jC9MjhV0peEE",
        "outputId": "40febcb4-d79c-4de7-f1d4-5fa12a606d90"
      },
      "execution_count": null,
      "outputs": [
        {
          "output_type": "stream",
          "name": "stdout",
          "text": [
            "Rows where Age > 25:\n",
            "     Name  Age    City  Salary\n",
            "1   Emma   30  London   60000\n",
            "3  Sarah   28  Berlin   55000\n",
            "4   Mike   32   Tokyo   65000\n",
            "\n",
            "Rows where City is 'London' or 'Paris':\n",
            "    Name  Age    City  Salary\n",
            "1  Emma   30  London   60000\n",
            "2  Alex   22   Paris   45000\n",
            "\n",
            "Rows where Salary is between 45000 and 60000:\n",
            "     Name  Age      City  Salary\n",
            "0   John   25  New York   50000\n",
            "1   Emma   30    London   60000\n",
            "2   Alex   22     Paris   45000\n",
            "3  Sarah   28    Berlin   55000\n"
          ]
        }
      ]
    },
    {
      "cell_type": "code",
      "source": [
        "#question17\n",
        "import pandas as pd\n",
        "\n",
        "df = pd.DataFrame({\n",
        "    'A': [1, 2, None, 4],\n",
        "    'B': [5, None, 7, 8],\n",
        "    'C': [9, 10, 11, None]\n",
        "})\n",
        "\n",
        "missing_counts = df.isnull().sum()\n",
        "print(\"Missing values in each column:\\n\", missing_counts)\n",
        "\n",
        "df_dropped = df.dropna()\n",
        "print(\"\\nDataFrame after dropping rows with missing values:\\n\", df_dropped)\n",
        "\n",
        "df_filled = df.fillna(0)\n",
        "print(\"\\nDataFrame after filling missing values with 0:\\n\", df_filled)\n",
        "\n",
        "df['A'].fillna(df['A'].mean(), inplace=True)\n",
        "print(\"\\nDataFrame after filling missing values in column 'A' with mean:\\n\", df)\n",
        "\n",
        "df['B'].fillna(100, inplace=True)\n",
        "print(\"\\nDataFrame after filling missing values in column 'B' with 100:\\n\", df)\n",
        "\n",
        "df.ffill(inplace=True)\n",
        "print(\"\\nDataFrame after forward filling missing values:\\n\", df)\n"
      ],
      "metadata": {
        "id": "0lryQp9dqnOM",
        "colab": {
          "base_uri": "https://localhost:8080/"
        },
        "outputId": "cae63d04-9087-43eb-94d7-8ee306f74996"
      },
      "execution_count": null,
      "outputs": [
        {
          "output_type": "stream",
          "name": "stdout",
          "text": [
            "Missing values in each column:\n",
            " A    1\n",
            "B    1\n",
            "C    1\n",
            "dtype: int64\n",
            "\n",
            "DataFrame after dropping rows with missing values:\n",
            "      A    B    C\n",
            "0  1.0  5.0  9.0\n",
            "\n",
            "DataFrame after filling missing values with 0:\n",
            "      A    B     C\n",
            "0  1.0  5.0   9.0\n",
            "1  2.0  0.0  10.0\n",
            "2  0.0  7.0  11.0\n",
            "3  4.0  8.0   0.0\n",
            "\n",
            "DataFrame after filling missing values in column 'A' with mean:\n",
            "           A    B     C\n",
            "0  1.000000  5.0   9.0\n",
            "1  2.000000  NaN  10.0\n",
            "2  2.333333  7.0  11.0\n",
            "3  4.000000  8.0   NaN\n",
            "\n",
            "DataFrame after filling missing values in column 'B' with 100:\n",
            "           A      B     C\n",
            "0  1.000000    5.0   9.0\n",
            "1  2.000000  100.0  10.0\n",
            "2  2.333333    7.0  11.0\n",
            "3  4.000000    8.0   NaN\n",
            "\n",
            "DataFrame after forward filling missing values:\n",
            "           A      B     C\n",
            "0  1.000000    5.0   9.0\n",
            "1  2.000000  100.0  10.0\n",
            "2  2.333333    7.0  11.0\n",
            "3  4.000000    8.0  11.0\n"
          ]
        },
        {
          "output_type": "stream",
          "name": "stderr",
          "text": [
            "<ipython-input-2-a81458f47ea9>:19: FutureWarning: A value is trying to be set on a copy of a DataFrame or Series through chained assignment using an inplace method.\n",
            "The behavior will change in pandas 3.0. This inplace method will never work because the intermediate object on which we are setting values always behaves as a copy.\n",
            "\n",
            "For example, when doing 'df[col].method(value, inplace=True)', try using 'df.method({col: value}, inplace=True)' or df[col] = df[col].method(value) instead, to perform the operation inplace on the original object.\n",
            "\n",
            "\n",
            "  df['A'].fillna(df['A'].mean(), inplace=True)\n",
            "<ipython-input-2-a81458f47ea9>:22: FutureWarning: A value is trying to be set on a copy of a DataFrame or Series through chained assignment using an inplace method.\n",
            "The behavior will change in pandas 3.0. This inplace method will never work because the intermediate object on which we are setting values always behaves as a copy.\n",
            "\n",
            "For example, when doing 'df[col].method(value, inplace=True)', try using 'df.method({col: value}, inplace=True)' or df[col] = df[col].method(value) instead, to perform the operation inplace on the original object.\n",
            "\n",
            "\n",
            "  df['B'].fillna(100, inplace=True)\n"
          ]
        }
      ]
    },
    {
      "cell_type": "code",
      "source": [
        "#question18\n",
        "import pandas as pd\n",
        "\n",
        "# Create DataFrame with student test scores\n",
        "df = pd.DataFrame({\n",
        "    'Student': ['Alex', 'Bob', 'Charlie', 'David'],\n",
        "    'Math': [85, 90, 70, 80],\n",
        "    'Science': [90, 85, 75, 85],\n",
        "    'English': [80, 95, 80, 75]\n",
        "})\n",
        "\n",
        "# Add a new column 'Average' that contains the average score for each student\n",
        "df['Average'] = df[['Math', 'Science', 'English']].mean(axis=1)\n",
        "\n",
        "# Sort the DataFrame by the Math scores in descending order\n",
        "df_sorted = df.sort_values(by='Math', ascending=False)\n",
        "\n",
        "# Find the student with the highest Science score\n",
        "highest_science_student = df.loc[df['Science'].idxmax(), 'Student']\n",
        "\n",
        "# Find all students who scored above 85 in any subject\n",
        "students_above_85 = df[(df['Math'] > 85) | (df['Science'] > 85) | (df['English'] > 85)]\n",
        "\n",
        "# Calculate the average score for each subject\n",
        "subject_avg = df[['Math', 'Science', 'English']].mean()\n",
        "\n",
        "# Add a new row for a student named 'Eve' with scores Math: 95, Science: 92, English: 88\n",
        "df.loc[len(df)] = ['Eve', 95, 92, 88, (95 + 92 + 88) / 3]\n",
        "\n",
        "# Create DataFrame with product sales data\n",
        "df_products = pd.DataFrame({\n",
        "    'Product': ['A', 'B', 'A', 'C', 'B', 'A'],\n",
        "    'Quantity': [10, 5, 15, 8, 12, 7],\n",
        "    'Price': [100, 200, 100, 150, 200, 100]\n",
        "})\n",
        "\n",
        "# Calculate the total quantity for each product\n",
        "total_quantity = df_products.groupby('Product')['Quantity'].sum()\n",
        "\n",
        "# Calculate the total revenue for each product\n",
        "df_products['Revenue'] = df_products['Quantity'] * df_products['Price']\n",
        "total_revenue = df_products.groupby('Product')['Revenue'].sum()\n",
        "\n",
        "# Print results\n",
        "print(\"\\nDataFrame sorted by Math scores:\\n\", df_sorted)\n",
        "print(\"\\nStudent with the highest Science score:\", highest_science_student)\n",
        "print(\"\\nStudents who scored above 85 in any subject:\\n\", students_above_85)\n",
        "print(\"\\nAverage score for each subject:\\n\", subject_avg)\n",
        "print(\"\\nUpdated DataFrame with Eve:\\n\", df)\n",
        "print(\"\\nTotal quantity for each product:\\n\", total_quantity)\n",
        "print(\"\\nTotal revenue for each product:\\n\", total_revenue)\n"
      ],
      "metadata": {
        "colab": {
          "base_uri": "https://localhost:8080/"
        },
        "id": "F8aj_9IBKIMW",
        "outputId": "7406573d-9f4d-474d-f1d1-6046ffea134f"
      },
      "execution_count": null,
      "outputs": [
        {
          "output_type": "stream",
          "name": "stdout",
          "text": [
            "\n",
            "DataFrame sorted by Math scores:\n",
            "    Student  Math  Science  English  Average\n",
            "1      Bob    90       85       95     90.0\n",
            "0     Alex    85       90       80     85.0\n",
            "3    David    80       85       75     80.0\n",
            "2  Charlie    70       75       80     75.0\n",
            "\n",
            "Student with the highest Science score: Alex\n",
            "\n",
            "Students who scored above 85 in any subject:\n",
            "   Student  Math  Science  English  Average\n",
            "0    Alex    85       90       80     85.0\n",
            "1     Bob    90       85       95     90.0\n",
            "\n",
            "Average score for each subject:\n",
            " Math       81.25\n",
            "Science    83.75\n",
            "English    82.50\n",
            "dtype: float64\n",
            "\n",
            "Updated DataFrame with Eve:\n",
            "    Student  Math  Science  English    Average\n",
            "0     Alex    85       90       80  85.000000\n",
            "1      Bob    90       85       95  90.000000\n",
            "2  Charlie    70       75       80  75.000000\n",
            "3    David    80       85       75  80.000000\n",
            "4      Eve    95       92       88  91.666667\n",
            "\n",
            "Total quantity for each product:\n",
            " Product\n",
            "A    32\n",
            "B    17\n",
            "C     8\n",
            "Name: Quantity, dtype: int64\n",
            "\n",
            "Total revenue for each product:\n",
            " Product\n",
            "A    3200\n",
            "B    3400\n",
            "C    1200\n",
            "Name: Revenue, dtype: int64\n"
          ]
        }
      ]
    },
    {
      "cell_type": "code",
      "source": [
        "#question19\n",
        "#Mean Calculation: Given the data set [3, 7, 9, 12, 15], calculate the mean. What does this mean in the context of the data?\n",
        "import numpy as np\n",
        "data = [3, 7, 9, 12, 15]\n",
        "mean = np.mean(data)\n",
        "print(\"Mean : \", mean)\n",
        "#The mean of 9.2 represents the central value of the dataset. In the context of the data, this means that if all values were evenly distributed, each would be approximately 9.2.\n",
        "\n",
        "#Kurtosis Interpretation: What does kurtosis indicate about a data set? Describe how you would identify whether a data set has high or low kurtosis.\n",
        "import pandas as pd\n",
        "\n",
        "data = [3, 7, 9, 12, 15]\n",
        "kurtosis_value = pd.Series(data).kurt()\n",
        "print(\"Kurtosis:\", kurtosis_value)\n",
        "#Kurtosis measures the tailedness of a data distribution, indicating whether the data has heavy or light tails compared to a normal distribution.\n",
        "\n",
        "#Median vs. Mean: Explain the difference between the mean and median. When is it more appropriate to use the median instead of the mean?\n",
        "#Mean (Average): The sum of all values divided by the total number of values.\n",
        "#Median: The middle value in an ordered dataset. If there are an even number of values, it is the average of the two middle numbers.\n",
        "\n",
        "#Mode Identification: Given the data set [2, 4, 4, 6, 8, 8, 8, 10], identify the mode. How would you interpret the mode in this context?\n",
        "import pandas as pd\n",
        "\n",
        "data = [2, 4, 4, 6, 8, 8, 8, 10]\n",
        "mode_value = pd.Series(data).mode()\n",
        "\n",
        "print(\"Mode:\", mode_value.tolist())  # Convert to list for better readability\n",
        "\n",
        "#Range Calculation: Calculate the range for the following data set: [3, 5, 8, 12, 14]. What does the range tell you about the spread of the data?\n",
        "data = [3, 5, 8, 12, 14]\n",
        "data_range = max(data) - min(data)\n",
        "print(\"Range:\", data_range)\n",
        "\n",
        "#Variance Calculation: Given the data set [1, 3, 5, 7], calculate the sample variance. What does variance tell you about the distribution of the data?\n",
        "import numpy as np\n",
        "\n",
        "data = [1, 3, 5, 7]\n",
        "variance = np.var(data, ddof=1)\n",
        "print(\"Sample Variance:\", variance)\n",
        "\n",
        "#Standard Deviation: How does standard deviation help in understanding data spread? Calculate the standard deviation for the data set [5, 7, 10, 12, 14].\n",
        "import statistics\n",
        "import numpy as np\n",
        "\n",
        "data = [5, 7, 10, 12, 14]\n",
        "\n",
        "pop_std_dev = statistics.pstdev(data)\n",
        "sample_std_dev = statistics.stdev(data)\n",
        "\n",
        "numpy_pop_std_dev = np.std(data, ddof=0)\n",
        "numpy_sample_std_dev = np.std(data, ddof=1)\n",
        "\n",
        "print(\"Population Standard Deviation:\", pop_std_dev)\n",
        "print(\"Sample Standard Deviation:\", sample_std_dev)\n",
        "print(\"NumPy Population Standard Deviation:\", numpy_pop_std_dev)\n",
        "print(\"NumPy Sample Standard Deviation:\", numpy_sample_std_dev)\n",
        "\n",
        "#Skewness Analysis: Given the data set [2, 3, 4, 5, 100], describe the skewness of the data and explain what this means.\n",
        "import scipy.stats as stats\n",
        "\n",
        "data = [2, 3, 4, 5, 100]\n",
        "skewness = stats.skew(data)\n",
        "\n",
        "print(\"Skewness:\", skewness)\n"
      ],
      "metadata": {
        "colab": {
          "base_uri": "https://localhost:8080/"
        },
        "id": "78cPSzh3KPqQ",
        "outputId": "8a5bbe0b-9787-40a4-d270-30cce3368236"
      },
      "execution_count": null,
      "outputs": [
        {
          "output_type": "stream",
          "name": "stdout",
          "text": [
            "Mean :  9.2\n",
            "Kurtosis: -0.5068529725881108\n",
            "Mode: [8]\n",
            "Range: 11\n",
            "Sample Variance: 6.666666666666667\n",
            "Population Standard Deviation: 3.2619012860600183\n",
            "Sample Standard Deviation: 3.646916505762094\n",
            "NumPy Population Standard Deviation: 3.2619012860600183\n",
            "NumPy Sample Standard Deviation: 3.646916505762094\n",
            "Skewness: 1.4974854324944105\n"
          ]
        }
      ]
    },
    {
      "cell_type": "code",
      "source": [
        "#question20\n",
        "person = {\n",
        "    \"name\": \"John\",\n",
        "    \"age\": 30,\n",
        "    \"city\": \"New York\"\n",
        "}\n",
        "\n",
        "print(person)\n"
      ],
      "metadata": {
        "colab": {
          "base_uri": "https://localhost:8080/"
        },
        "id": "w3ARa6J_KwgV",
        "outputId": "075b7451-ffcf-4cb4-facb-e5fc91fb5c62"
      },
      "execution_count": null,
      "outputs": [
        {
          "output_type": "stream",
          "name": "stdout",
          "text": [
            "{'name': 'John', 'age': 30, 'city': 'New York'}\n"
          ]
        }
      ]
    },
    {
      "cell_type": "code",
      "source": [
        "#question21\n",
        "# Write a Python program to read the contents of a file named data.txt. Assume the file contains multiple lines of text. Print each line in the file.\n",
        "with open(\"data.txt\", \"r\") as file:\n",
        "    for line in file:\n",
        "        print(line.strip())\n"
      ],
      "metadata": {
        "id": "symXsYy6Ng7m"
      },
      "execution_count": null,
      "outputs": []
    },
    {
      "cell_type": "code",
      "source": [
        "#question22\n",
        "# Write a Python program to create a file called output.txt and write the text \"Hello, World!\" into it. Ensure the file is saved in the current directory.\n",
        "with open(\"output.txt\", \"w\") as file:\n",
        "    file.write(\"Hello, World!\")\n"
      ],
      "metadata": {
        "id": "dMufzR3PNk6c"
      },
      "execution_count": null,
      "outputs": []
    },
    {
      "cell_type": "code",
      "source": [
        "#question23\n",
        "# Create a dictionary with the key \"product\" and the value \"laptop\". Then, update the dictionary by adding a new key-value pair \"price\": 1000. Print the updated dictionary.\n",
        "product_info = {\"product\": \"laptop\"}\n",
        "product_info[\"price\"] = 1000\n",
        "\n",
        "print(product_info)\n"
      ],
      "metadata": {
        "id": "kEAv-YnjODck"
      },
      "execution_count": null,
      "outputs": []
    },
    {
      "cell_type": "code",
      "source": [
        "#question24\n",
        "# Use the with statement to open a file named example.txt for reading, and then print its contents. What is the advantage of using with for file handling?\n",
        "with open(\"example.txt\", \"r\") as file:\n",
        "    print(file.read())\n",
        "#advantsges is Ensures automatic file closure, prevents resource leaks, and makes code cleaner and error-free."
      ],
      "metadata": {
        "id": "hHzroUB7OSd1"
      },
      "execution_count": null,
      "outputs": []
    }
  ]
}